{
 "cells": [
  {
   "cell_type": "markdown",
   "metadata": {},
   "source": [
    "#### Write a program in python to test whether a passed character is a vowel or not.\n",
    "\n",
    "Sample Input: Enter character: x\n",
    "Sample Output: Not a vowel"
   ]
  },
  {
   "cell_type": "code",
   "execution_count": 4,
   "metadata": {},
   "outputs": [
    {
     "name": "stdout",
     "output_type": "stream",
     "text": [
      "Enter character: a\n",
      "True\n"
     ]
    }
   ],
   "source": [
    "a = input('Enter character: ')\n",
    "def is_vowel(char):\n",
    "    all_vowels = 'aeiou'\n",
    "    return char in all_vowels\n",
    "print(is_vowel(a))"
   ]
  },
  {
   "cell_type": "markdown",
   "metadata": {},
   "source": [
    "#### Write a program in python to swap two numbers using a third variable.\n",
    "\n",
    "Sample Input: a=4 b=7\n",
    "Sample Output: a=7 b=4"
   ]
  },
  {
   "cell_type": "code",
   "execution_count": 14,
   "metadata": {},
   "outputs": [
    {
     "name": "stdout",
     "output_type": "stream",
     "text": [
      "a=4\n",
      "b=7\n",
      "a= 7   b= 4\n"
     ]
    }
   ],
   "source": [
    "a=input('a=') \n",
    "b=input('b=')\n",
    "temp=a\n",
    "a=b\n",
    "b=temp\n",
    "print('a=',a, '  b=',b)"
   ]
  },
  {
   "cell_type": "markdown",
   "metadata": {},
   "source": [
    "#### Write a program in python to swap two numbers without the use of a third variable.\n",
    "\n",
    "Sample Input: a=4 b=7\n",
    "Sample Output: a=7 b=4"
   ]
  },
  {
   "cell_type": "code",
   "execution_count": 15,
   "metadata": {},
   "outputs": [
    {
     "name": "stdout",
     "output_type": "stream",
     "text": [
      "a=4\n",
      "b=7\n",
      "a= 7   b= 4\n"
     ]
    }
   ],
   "source": [
    "xa=input('a=') \n",
    "xb=input('b=')\n",
    "a=int(xa)\n",
    "b=int(xb)\n",
    "a=a+b\n",
    "b=a-b\n",
    "a=a-b\n",
    "print('a=', a, '  b=', b)"
   ]
  },
  {
   "cell_type": "markdown",
   "metadata": {},
   "source": [
    "#### Write a program in python to print all Armstrong numbers between 1 and 1000.\n",
    "\n",
    "A positive integer is called an Armstrong number of order n if\n",
    "abcd... = an + bn + cn + dn + ...\n",
    "In case of an Armstrong number of 3 digits, the sum of cubes of each digits is equal to the number itself. For example:\n",
    "153 = 1*1*1 + 5*5*5 + 3*3*3  // 153 is an Armstrong number."
   ]
  },
  {
   "cell_type": "code",
   "execution_count": 24,
   "metadata": {},
   "outputs": [
    {
     "name": "stdout",
     "output_type": "stream",
     "text": [
      "153\n",
      "370\n",
      "371\n",
      "407\n",
      "1634\n"
     ]
    }
   ],
   "source": [
    "l = 1\n",
    "u = 1000\n",
    "# To take input from the user\n",
    "# lower = int(input(\"Enter lower range: \"))\n",
    "# upper = int(input(\"Enter upper range: \"))\n",
    "for num in range(lower, upper + 1):\n",
    "   # order = no. of digits in the number\n",
    "   order = len(str(num))\n",
    "   sum = 0\n",
    "   temp = num\n",
    "   while temp > 0:\n",
    "       digit = temp % 10\n",
    "       sum += digit ** order\n",
    "       temp //= 10\n",
    "\n",
    "   if num == sum:\n",
    "       print(num)"
   ]
  },
  {
   "cell_type": "code",
   "execution_count": 2,
   "metadata": {},
   "outputs": [
    {
     "name": "stdout",
     "output_type": "stream",
     "text": [
      "120\n"
     ]
    }
   ],
   "source": [
    "x = int(input(\"enter a no: \"))\n",
    "f=1\n",
    "copy = x\n",
    "while copy>1:\n",
    "    f=f*copy\n",
    "    copy = copy - 1\n",
    "print (f)"
   ]
  },
  {
   "cell_type": "code",
   "execution_count": null,
   "metadata": {},
   "outputs": [],
   "source": []
  }
 ],
 "metadata": {
  "kernelspec": {
   "display_name": "Python 3",
   "language": "python",
   "name": "python3"
  },
  "language_info": {
   "codemirror_mode": {
    "name": "ipython",
    "version": 3
   },
   "file_extension": ".py",
   "mimetype": "text/x-python",
   "name": "python",
   "nbconvert_exporter": "python",
   "pygments_lexer": "ipython3",
   "version": "3.6.5"
  }
 },
 "nbformat": 4,
 "nbformat_minor": 2
}
