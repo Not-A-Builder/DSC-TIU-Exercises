{
 "cells": [
  {
   "cell_type": "markdown",
   "metadata": {},
   "source": [
    "### Write a program in Python to add two matrices."
   ]
  },
  {
   "cell_type": "code",
   "execution_count": 2,
   "metadata": {},
   "outputs": [
    {
     "name": "stdout",
     "output_type": "stream",
     "text": [
      "[11, 13, 15]\n",
      "[17, 19, 21]\n",
      "[23, 25, 27]\n"
     ]
    }
   ],
   "source": [
    "X = [[1,2,3],  \n",
    "       [4,5,6],  \n",
    "       [7,8,9]]  \n",
    "  \n",
    "Y = [[10,11,12],  \n",
    "       [13,14,15],  \n",
    "       [16,17,18]]  \n",
    "  \n",
    "result = [[0,0,0],  \n",
    "                [0,0,0],  \n",
    "                [0,0,0]]  \n",
    "# iterate through rows  \n",
    "for i in range(len(X)):  \n",
    "   # iterate through columns  \n",
    "   for j in range(len(X[0])):  \n",
    "       result[i][j] = X[i][j] + Y[i][j]  \n",
    "for r in result:  \n",
    "   print(r)  "
   ]
  },
  {
   "cell_type": "markdown",
   "metadata": {},
   "source": [
    "### Write a program in Python to multiply two matrices."
   ]
  },
  {
   "cell_type": "code",
   "execution_count": 4,
   "metadata": {},
   "outputs": [
    {
     "name": "stdout",
     "output_type": "stream",
     "text": [
      "[84, 90, 96]\n",
      "[201, 216, 231]\n",
      "[318, 342, 366]\n"
     ]
    }
   ],
   "source": [
    "X = [[1,2,3],  \n",
    "       [4,5,6],  \n",
    "       [7,8,9]]  \n",
    "  \n",
    "Y = [[10,11,12],  \n",
    "      [13,14,15],  \n",
    "      [16,17,18]]  \n",
    "  \n",
    "result = [[0,0,0],  \n",
    "               [0,0,0],  \n",
    "              [0,0,0]]  \n",
    "  \n",
    "# iterate through rows of X  \n",
    "for i in range(len(X)):  \n",
    "   for j in range(len(Y[0])):  \n",
    "       for k in range(len(Y)):  \n",
    "           result[i][j] += X[i][k] * Y[k][j]  \n",
    "for r in result:  \n",
    "   print(r)  "
   ]
  },
  {
   "cell_type": "markdown",
   "metadata": {},
   "source": [
    "### Write a program in Python to find the transpose of a matrix."
   ]
  },
  {
   "cell_type": "code",
   "execution_count": 5,
   "metadata": {},
   "outputs": [
    {
     "name": "stdout",
     "output_type": "stream",
     "text": [
      "[1, 4, 7]\n",
      "[2, 5, 8]\n"
     ]
    }
   ],
   "source": [
    "X = [[1,2],  \n",
    "      [4,5],  \n",
    "     [7,8]]  \n",
    "  \n",
    "result = [[0,0,0],  \n",
    "             [0,0,0]]  \n",
    "  \n",
    "# iterate through rows  \n",
    "for i in range(len(X)):  \n",
    "   for j in range(len(X[0])):  \n",
    "       result[j][i] = X[i][j]  \n",
    "  \n",
    "for r in result:  \n",
    "   print(r)"
   ]
  },
  {
   "cell_type": "markdown",
   "metadata": {},
   "source": [
    "### Write a program in Python to remove punctuation from a string."
   ]
  },
  {
   "cell_type": "code",
   "execution_count": 8,
   "metadata": {},
   "outputs": [
    {
     "name": "stdout",
     "output_type": "stream",
     "text": [
      "Python nevertheless is what i will continue to use despite its drawbacks\n"
     ]
    }
   ],
   "source": [
    "# define punctuation  \n",
    "punctuation = '''''!()-[]{};:'\"\\,<>./?@#$%^&*_~'''  \n",
    "# take input from the user  \n",
    "my_str = input(\"Enter a string: \")  \n",
    "# remove punctuation from the string  \n",
    "no_punct = \"\"  \n",
    "for char in my_str:  \n",
    "   if char not in punctuation:  \n",
    "       no_punct = no_punct + char  \n",
    "# display the unpunctuated string  \n",
    "print(no_punct)"
   ]
  },
  {
   "cell_type": "markdown",
   "metadata": {},
   "source": [
    "### Mod: Add capabaility to above code to remove punctuation and spaces"
   ]
  },
  {
   "cell_type": "code",
   "execution_count": 9,
   "metadata": {},
   "outputs": [
    {
     "name": "stdout",
     "output_type": "stream",
     "text": [
      "IfeelsoPythony\n"
     ]
    }
   ],
   "source": [
    "# define punctuation  \n",
    "punctuation = '''''!()-[]{};:'\"\\,< >./?@#$%^&*_~'''  \n",
    "# take input from the user  \n",
    "my_str = input(\"Enter a string: \")  \n",
    "# remove punctuation from the string  \n",
    "no_punct = \"\"  \n",
    "for char in my_str:  \n",
    "   if char not in punctuation:  \n",
    "       no_punct = no_punct + char  \n",
    "# display the unpunctuated string  \n",
    "print(no_punct)"
   ]
  },
  {
   "cell_type": "markdown",
   "metadata": {},
   "source": [
    "## Congratulations on having completed the exercise\n",
    "... with the solutions given in front of you ...  \n",
    "... so ...  \n",
    "... no congratulations."
   ]
  },
  {
   "cell_type": "markdown",
   "metadata": {},
   "source": [
    "### In case...\n",
    "\n",
    "### You don't know how to take an user-input ARRAY:"
   ]
  },
  {
   "cell_type": "code",
   "execution_count": 21,
   "metadata": {},
   "outputs": [
    {
     "name": "stdout",
     "output_type": "stream",
     "text": [
      "\n",
      " [1, 4, 2, 3, 5]\n"
     ]
    }
   ],
   "source": [
    "n = int(input())\n",
    "a = []\n",
    "for _ in range(n):\n",
    "    x = int(input())\n",
    "    a.append(x)  \n",
    "print('\\n', a)"
   ]
  },
  {
   "cell_type": "markdown",
   "metadata": {},
   "source": [
    "### You don't know how to take an user-input MATRIX:"
   ]
  },
  {
   "cell_type": "code",
   "execution_count": 34,
   "metadata": {},
   "outputs": [
    {
     "name": "stdout",
     "output_type": "stream",
     "text": [
      "[[11 12]\n",
      " [21 22]\n",
      " [31 32]]\n"
     ]
    }
   ],
   "source": [
    "import numpy as np\n",
    "matrix = []\n",
    "rows = int(input(\"Num rows: \"))\n",
    "cols = int(input(\"Num columns: \"))\n",
    "for r in range(rows):\n",
    "    row = []\n",
    "    for c in range(cols):\n",
    "        row.append(int(input(\"M1-> R: {} C: {}\\n>>>\".format(r+1, c+1))))\n",
    "    matrix.append(row)\n",
    "print(np.matrix(matrix))"
   ]
  },
  {
   "cell_type": "markdown",
   "metadata": {},
   "source": [
    "### You're welcome!"
   ]
  }
 ],
 "metadata": {
  "kernelspec": {
   "display_name": "Python 3",
   "language": "python",
   "name": "python3"
  },
  "language_info": {
   "codemirror_mode": {
    "name": "ipython",
    "version": 3
   },
   "file_extension": ".py",
   "mimetype": "text/x-python",
   "name": "python",
   "nbconvert_exporter": "python",
   "pygments_lexer": "ipython3",
   "version": "3.6.5"
  }
 },
 "nbformat": 4,
 "nbformat_minor": 2
}
