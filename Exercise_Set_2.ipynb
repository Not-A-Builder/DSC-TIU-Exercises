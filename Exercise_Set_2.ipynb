{
  "nbformat": 4,
  "nbformat_minor": 0,
  "metadata": {
    "colab": {
      "name": "Exercise_Set_2.ipynb",
      "version": "0.3.2",
      "provenance": []
    },
    "kernelspec": {
      "display_name": "Python 3",
      "language": "python",
      "name": "python3"
    }
  },
  "cells": [
    {
      "metadata": {
        "id": "dzzPJOK7axDH",
        "colab_type": "text"
      },
      "cell_type": "markdown",
      "source": [
        "#### Write a program in Python to add two matrices."
      ]
    },
    {
      "metadata": {
        "id": "GWqBOOuIaxDN",
        "colab_type": "code",
        "colab": {
          "base_uri": "https://localhost:8080/",
          "height": 68
        },
        "outputId": "3cd095df-6bcb-4f93-c0d1-01226698ff21"
      },
      "cell_type": "code",
      "source": [
        "X=[[1,2,3],\n",
        "   [4,5,6],\n",
        "   [7,8,9]]\n",
        "Y=[[10,11,12],\n",
        "   [13,14,15],\n",
        "   [16,17,18]]\n",
        "Sum=[[0,0,0],\n",
        "     [0,0,0],\n",
        "     [0,0,0]]\n",
        "for i in range(len(X)):\n",
        "  for j in range(len(X[0])):\n",
        "    Sum[i][j]=X[i][j]+Y[i][j]\n",
        "\n",
        "for a in Sum:\n",
        "  print(a)"
      ],
      "execution_count": 13,
      "outputs": [
        {
          "output_type": "stream",
          "text": [
            "[11, 13, 15]\n",
            "[17, 19, 21]\n",
            "[23, 25, 27]\n"
          ],
          "name": "stdout"
        }
      ]
    },
    {
      "metadata": {
        "id": "LxFjhYeYaxDT",
        "colab_type": "text"
      },
      "cell_type": "markdown",
      "source": [
        "#### Write a program in Python to multiply two matrices."
      ]
    },
    {
      "metadata": {
        "id": "u5bo3IlAaxDV",
        "colab_type": "code",
        "colab": {
          "base_uri": "https://localhost:8080/",
          "height": 51
        },
        "outputId": "9a52608c-894a-4e04-dff5-786b40b43e45"
      },
      "cell_type": "code",
      "source": [
        "#2x3 Matrix\n",
        "X=[[1,2,3],\n",
        "   [4,5,6]]\n",
        "\n",
        "#3x4 Matrix\n",
        "Y=[[5,6,9,7],\n",
        "   [3,0,2,8],\n",
        "   [1,6,5,9]]\n",
        "\n",
        "#Result is 2x4 Matrix\n",
        "Mult=[[0,0,0,0],\n",
        "      [0,0,0,0]]\n",
        "\n",
        "for i in range(len(X)):\n",
        "  for j in range(len(Y[0])):\n",
        "    for k in range(len(Y)):\n",
        "        Mult[i][j] += X[i][k] * Y[k][j]\n",
        "      \n",
        "for a in Mult:\n",
        "  print(a)"
      ],
      "execution_count": 12,
      "outputs": [
        {
          "output_type": "stream",
          "text": [
            "[14, 24, 28, 50]\n",
            "[41, 60, 76, 122]\n"
          ],
          "name": "stdout"
        }
      ]
    },
    {
      "metadata": {
        "id": "RMR_yJ3TaxDX",
        "colab_type": "text"
      },
      "cell_type": "markdown",
      "source": [
        "#### Write a program in Python to find the transpose of a matrix."
      ]
    },
    {
      "metadata": {
        "id": "SAyx2eOvaxDZ",
        "colab_type": "code",
        "colab": {
          "base_uri": "https://localhost:8080/",
          "height": 68
        },
        "outputId": "13882a3c-6fa1-4399-bdd2-fbec9492d5f8"
      },
      "cell_type": "code",
      "source": [
        "#2x3 Matrix\n",
        "X = [[1,2,3],\n",
        "     [4,5,6]]\n",
        "#Transpose will be a 3x2 Matrix\n",
        "trans = [[0,0],\n",
        "         [0,0],\n",
        "         [0,0]]\n",
        "for i in range(len(X)):\n",
        "  for j in range(len(X[0])):\n",
        "    trans[j][i] = X[i][j]\n",
        "\n",
        "for a in trans:\n",
        "  print(a)"
      ],
      "execution_count": 14,
      "outputs": [
        {
          "output_type": "stream",
          "text": [
            "[1, 4]\n",
            "[2, 5]\n",
            "[3, 6]\n"
          ],
          "name": "stdout"
        }
      ]
    },
    {
      "metadata": {
        "id": "4cAqUUCRaxDc",
        "colab_type": "text"
      },
      "cell_type": "markdown",
      "source": [
        "#### Write a program in Python to remove punctuation from any string."
      ]
    },
    {
      "metadata": {
        "id": "mAYCNdwtaxDd",
        "colab_type": "code",
        "colab": {
          "base_uri": "https://localhost:8080/",
          "height": 51
        },
        "outputId": "17f435e1-5519-48fa-8f70-ed9fb8e02ce8"
      },
      "cell_type": "code",
      "source": [
        "# define punctuation\n",
        "punctuations = '''!()-[]{};:'\"\\,./?_'''\n",
        "\n",
        "str = input(\"Enter a String : \")\n",
        "str_1=\"\"\n",
        "for ch in str:\n",
        "  if ch not in punctuations:\n",
        "    str_1=str_1+ch\n",
        "    \n",
        "print(str_1)"
      ],
      "execution_count": 16,
      "outputs": [
        {
          "output_type": "stream",
          "text": [
            "Enter a String : Hello!!! How are you ??. I am fine , \"Hello World\"\n",
            "Hello How are you  I am fine  Hello World\n"
          ],
          "name": "stdout"
        }
      ]
    }
  ]
}